{
 "cells": [
  {
   "cell_type": "code",
   "execution_count": 5,
   "metadata": {
    "collapsed": true
   },
   "outputs": [],
   "source": [
    "# 온라인상 자료 다운받기\n",
    "  \n",
    "import requests\n",
    "\n",
    "url='http://file.mk.co.kr/meet/neds/2017/09/image_readtop_2017_640902_15062568673041615.jpg'\n",
    "savename='test.png'\n",
    "response=requests.get(url)\n",
    "\n",
    "with open(savename, \"wb\") as outfile:\n",
    "    outfile.write(response.content)"
   ]
  },
  {
   "cell_type": "code",
   "execution_count": 24,
   "metadata": {
    "collapsed": false
   },
   "outputs": [
    {
     "name": "stdout",
     "output_type": "stream",
     "text": [
      "url= http://www.kma.go.kr/weather/forecast/mid-term-rss3.jsp?stnId=108\n",
      "<?xml version=\"1.0\" encoding=\"utf-8\" ?>\r\n",
      "<rss version=\"2.0\">\r\n",
      "<channel>\r\n",
      "<title>기상청 육상 중기예보</title>\r\n",
      "<link>http://www.kma.go.kr/weather/forecast/mid-term_01.jsp</link>\r\n",
      "<description>기상청 날씨 웹서비스</descr\n"
     ]
    }
   ],
   "source": [
    "#기상청 API 에서 자료 받아오기\n",
    "\n",
    "import urllib.request\n",
    "import urllib.parse\n",
    "\n",
    "API='http://www.kma.go.kr/weather/forecast/mid-term-rss3.jsp'\n",
    "\n",
    "values={\n",
    "    'stnId':'108'    #108: 전국\n",
    "}\n",
    "params=urllib.parse.urlencode(values)\n",
    "url=API+\"?\"+params\n",
    "print(\"url=\", url)\n",
    "\n",
    "data=urllib.request.urlopen(url).read()\n",
    "text=data.decode('utf-8')\n",
    "print(text[:200])"
   ]
  },
  {
   "cell_type": "code",
   "execution_count": 26,
   "metadata": {
    "collapsed": false,
    "scrolled": false
   },
   "outputs": [
    {
     "name": "stdout",
     "output_type": "stream",
     "text": [
      "<?xml version=\"1.0\" encoding=\"utf-8\" ?>\r\n",
      "<rss version=\"2.0\">\r\n",
      "<channel>\r\n",
      "<title>기상청 육상 중기예보</title>\r\n",
      "<link>http://www.kma.go.kr/weather/forecast/mid-term_01.jsp</link>\r\n",
      "<description>기상청 날씨 웹서비스</description>\r\n",
      "<language>ko</language>\r\n",
      "<generator>기상청</generator>\r\n",
      "<pubDate>2017년 09월 25일 (월)요일 06:00</pubDate>\r\n",
      " <item>\r\n",
      "<author>기상청</author>\r\n",
      "<category>육상중기예보</category>\r\n",
      "<title>전국 육상 중기예보 - 2017년 09월 25일 (월)요일 06:00 발표</title>\r\n",
      "<link>http://www.kma.go.kr/weather/forecast/mid-term_01.jsp</link>\r\n",
      "<guid>http://www.kma.go.kr/weather/forecast/mid-term_01.jsp</guid>\r\n",
      "<description>\r\n",
      "\t<header>\r\n",
      "\t\t<title>전국 육상중기예보</title>\r\n",
      "\t\t<tm>201709250600</tm>\r\n",
      "\t\t<wf><![CDATA[기압골의 영향으로 10월 2일은 제주도, 3일은 전국에 비가 오겠습니다. 그 밖의 날은 고기압의 영향으로 대체로 맑은 날이 많겠습니다.<br />기온은 평년(최저기온: 7~17도, 최고기온: 21~25도)과 비슷하거나 조금 낮겠습니다.<br />강수량은 평년(1~7mm)과 비슷하겠습니다.<br /><br />* 이번 예보기간에는 낮과 밤의 기온 차가 크겠으니, 건강관리에 유의하기 바랍니다.]]></wf>\r\n",
      "\t</header>\r\n",
      "\t<body>\r\n",
      "\t\t\t\t\r\n",
      "\r\n",
      "\t\t<location wl_ver=\"3\">\r\n",
      "\t\t\t\t<province>서울ㆍ인천ㆍ경기도</province>\r\n",
      "\t\t\t\t<city>서울</city>\r\n",
      "\t\t\t\t\n"
     ]
    }
   ],
   "source": [
    "import requests\n",
    "\n",
    "API='http://www.kma.go.kr/weather/forecast/mid-term-rss3.jsp'\n",
    "\n",
    "values={\n",
    "    'stnId':'108'\n",
    "}\n",
    "\n",
    "r=requests.get(API, params=values)\n",
    "print(r.text[:1000])"
   ]
  },
  {
   "cell_type": "code",
   "execution_count": 29,
   "metadata": {
    "collapsed": false
   },
   "outputs": [
    {
     "name": "stdout",
     "output_type": "stream",
     "text": [
      "기상청 육상 중기예보\n",
      "기온은 평년(최저기온: 7~17도, 최고기온: 21~25도)과 비슷하거나 조금 낮겠습니다.강수량은 평년(1~7mm)과 비슷하겠습니다.* 이번 예보기간에는 낮과 밤의 기온 차가 크겠으니, 건강관리에 유의하기 바랍니다.]]>\n"
     ]
    }
   ],
   "source": [
    "from bs4 import BeautifulSoup\n",
    "import requests\n",
    "\n",
    "API='http://www.kma.go.kr/weather/forecast/mid-term-rss3.jsp'\n",
    "\n",
    "values={\n",
    "    'stnId':'108'\n",
    "}\n",
    "\n",
    "r=requests.get(API, params=values)\n",
    "html=r.text\n",
    "soup=BeautifulSoup(html,'lxml')\n",
    "\n",
    "title=soup.find('title').text\n",
    "wf=soup.find('wf').text\n",
    "print(title)\n",
    "print(wf)\n"
   ]
  },
  {
   "cell_type": "code",
   "execution_count": 38,
   "metadata": {
    "collapsed": false
   },
   "outputs": [
    {
     "name": "stdout",
     "output_type": "stream",
     "text": [
      "1,130.80\n"
     ]
    }
   ],
   "source": [
    "from bs4 import BeautifulSoup\n",
    "import requests\n",
    "\n",
    "url='http://info.finance.naver.com/marketindex/'\n",
    "response=requests.get(url)\n",
    "html=response.text\n",
    "soup=BeautifulSoup(html,'lxml')\n",
    "\n",
    "ratio=soup.select('li.on > a.head.usd > div > span.value')\n",
    "\n",
    "print(ratio[0].text)"
   ]
  },
  {
   "cell_type": "code",
   "execution_count": null,
   "metadata": {
    "collapsed": true
   },
   "outputs": [],
   "source": []
  }
 ],
 "metadata": {
  "anaconda-cloud": {},
  "kernelspec": {
   "display_name": "Python [default]",
   "language": "python",
   "name": "python3"
  },
  "language_info": {
   "codemirror_mode": {
    "name": "ipython",
    "version": 3
   },
   "file_extension": ".py",
   "mimetype": "text/x-python",
   "name": "python",
   "nbconvert_exporter": "python",
   "pygments_lexer": "ipython3",
   "version": "3.5.2"
  }
 },
 "nbformat": 4,
 "nbformat_minor": 1
}
