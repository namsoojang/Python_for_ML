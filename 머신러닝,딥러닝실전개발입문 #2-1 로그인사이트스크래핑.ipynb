{
 "cells": [
  {
   "cell_type": "markdown",
   "metadata": {},
   "source": [
    "# 로그인 하기"
   ]
  },
  {
   "cell_type": "code",
   "execution_count": 8,
   "metadata": {
    "collapsed": false
   },
   "outputs": [
    {
     "name": "stdout",
     "output_type": "stream",
     "text": [
      "마일리지 : 3,000 원,    이코인 : 0 원\n"
     ]
    }
   ],
   "source": [
    "import requests\n",
    "from bs4 import BeautifulSoup\n",
    "\n",
    "\n",
    "#로그인 정보 정리\n",
    "url_login='http://www.hanbit.co.kr/member/login_proc.php'\n",
    "login_info={\n",
    "    'm_id':'ID',\n",
    "    'm_passwd' : 'PW'\n",
    "}\n",
    "\n",
    "\n",
    "#session 만들기\n",
    "session = requests.session()\n",
    "\n",
    "# 로그인 하기\n",
    "r=session.post(url_login, data=login_info)\n",
    "r.raise_for_status()   #오류발생시 예외 발생\n",
    "\n",
    "\n",
    "# 페이지 읽어오기\n",
    "url_mypage='http://www.hanbit.co.kr/myhanbit/myhanbit.html'\n",
    "r=session.get(url_mypage)\n",
    "r.raise_for_status()\n",
    "\n",
    "\n",
    "# 원하는 항목 가져오기\n",
    "soup=BeautifulSoup(r.text, 'lxml')\n",
    "mileage = soup.select('#container > div > div.sm_mymileage > dl.mileage_section1 > dd > span')[0].text\n",
    "ecoin=soup.select('#container > div > div.sm_mymileage > dl.mileage_section2 > dd > span')[0].text\n",
    "\n",
    "\n",
    "print(\"마일리지 : %s 원,    이코인 : %s 원\" %(mileage, ecoin))"
   ]
  },
  {
   "cell_type": "markdown",
   "metadata": {},
   "source": [
    "# Selenium 이용하기"
   ]
  },
  {
   "cell_type": "code",
   "execution_count": 11,
   "metadata": {
    "collapsed": false
   },
   "outputs": [],
   "source": [
    "from selenium import webdriver\n",
    "\n",
    "url='http://www.naver.com'\n",
    "\n",
    "browser = webdriver.PhantomJS()\n",
    "browser.implicitly_wait(3)\n",
    "browser.get(url)\n",
    "\n",
    "browser.save_screenshot('Website.png')\n",
    "browser.quit()"
   ]
  },
  {
   "cell_type": "code",
   "execution_count": 15,
   "metadata": {
    "collapsed": false,
    "scrolled": false
   },
   "outputs": [
    {
     "name": "stdout",
     "output_type": "stream",
     "text": [
      "로그인 페이지입니다\n",
      "아이디 입력완료\n",
      "패스워드 입력완료\n",
      "로그인 버튼 클릭합니다\n",
      "어제수입 0 원\n",
      "수입잔액 1,747 원\n",
      "전환가능금액 1,747 원\n",
      "전환예정금액 0 원\n",
      "연간지급금액 0 원\n",
      "계정상태 정상 원\n",
      "이용제한 0 회 원\n",
      "계좌번호 확인 원\n",
      "등록미디어 1개 원\n"
     ]
    }
   ],
   "source": [
    "from selenium import webdriver\n",
    "\n",
    "url_login='https://nid.naver.com/nidlogin.login'\n",
    "USER='k*******'\n",
    "PW='a********'\n",
    "\n",
    "#가상 드라이버 \n",
    "browser = webdriver.PhantomJS()\n",
    "browser.implicitly_wait(3)\n",
    "\n",
    "#로그인페이지 접근\n",
    "\n",
    "browser.get(url_login)\n",
    "print('로그인 페이지입니다')\n",
    "\n",
    "#로그인 하기\n",
    "browser.find_element_by_id('id').send_keys(USER)\n",
    "print('아이디 입력완료')\n",
    "\n",
    "browser.find_element_by_id('pw').send_keys(PW)\n",
    "print('패스워드 입력완료')\n",
    "\n",
    "# form=browser.find_element_by_css_selector('input.btn_global')\n",
    "# fom.submit()\n",
    "# browser.find_element_by_xpath('//*[@id=\"frmNIDLogin\"]/fieldset/input').click()\n",
    "browser.find_element_by_class_name('btn_global').click()\n",
    "print('로그인 버튼 클릭합니다')\n",
    "\n",
    "\n",
    "url='https://adpost.naver.com/main.nhn'\n",
    "browser.get(url)\n",
    "datas=browser.find_elements_by_css_selector('#container > div.aside > div > dl > dd')\n",
    "\n",
    "informs=['어제수입', '수입잔액', '전환가능금액', '전환예정금액', '연간지급금액', '계정상태', '이용제한', '계좌번호', '등록미디어']\n",
    "\n",
    "for inform, data in zip(informs, datas):\n",
    "    print(inform, data.text, \"원\")\n",
    "\n",
    "    \n",
    "# print('수입잔액 : ' + datas[1])\n",
    "\n",
    "'''\n",
    "for data in datas:\n",
    "    print(data.text)\n",
    "'''\n",
    "\n",
    "browser.quit()"
   ]
  },
  {
   "cell_type": "code",
   "execution_count": 4,
   "metadata": {
    "collapsed": false
   },
   "outputs": [
    {
     "name": "stdout",
     "output_type": "stream",
     "text": [
      "로그인 페이지입니다\n"
     ]
    },
    {
     "ename": "WebDriverException",
     "evalue": "Message: TypeError - undefined is not a constructor (evaluating '_getTagName(currWindow).toLowerCase()')\n",
     "output_type": "error",
     "traceback": [
      "\u001b[0;31m---------------------------------------------------------------------------\u001b[0m",
      "\u001b[0;31mWebDriverException\u001b[0m                        Traceback (most recent call last)",
      "\u001b[0;32m<ipython-input-4-9ea86df2e80e>\u001b[0m in \u001b[0;36m<module>\u001b[0;34m()\u001b[0m\n\u001b[1;32m     15\u001b[0m \u001b[1;33m\u001b[0m\u001b[0m\n\u001b[1;32m     16\u001b[0m \u001b[1;31m#로그인 하기\u001b[0m\u001b[1;33m\u001b[0m\u001b[1;33m\u001b[0m\u001b[0m\n\u001b[0;32m---> 17\u001b[0;31m \u001b[0mbrowser\u001b[0m\u001b[1;33m.\u001b[0m\u001b[0mfind_element_by_id\u001b[0m\u001b[1;33m(\u001b[0m\u001b[1;34m'login_field'\u001b[0m\u001b[1;33m)\u001b[0m\u001b[1;33m.\u001b[0m\u001b[0msend_keys\u001b[0m\u001b[1;33m(\u001b[0m\u001b[0mUSER\u001b[0m\u001b[1;33m)\u001b[0m\u001b[1;33m\u001b[0m\u001b[0m\n\u001b[0m\u001b[1;32m     18\u001b[0m \u001b[0mprint\u001b[0m\u001b[1;33m(\u001b[0m\u001b[1;34m'아이디 입력완료'\u001b[0m\u001b[1;33m)\u001b[0m\u001b[1;33m\u001b[0m\u001b[0m\n\u001b[1;32m     19\u001b[0m \u001b[1;33m\u001b[0m\u001b[0m\n",
      "\u001b[0;32mC:\\Users\\amore\\Anaconda3\\lib\\site-packages\\selenium\\webdriver\\remote\\webelement.py\u001b[0m in \u001b[0;36msend_keys\u001b[0;34m(self, *value)\u001b[0m\n\u001b[1;32m    347\u001b[0m         self._execute(Command.SEND_KEYS_TO_ELEMENT,\n\u001b[1;32m    348\u001b[0m                       {'text': \"\".join(keys_to_typing(value)),\n\u001b[0;32m--> 349\u001b[0;31m                        'value': keys_to_typing(value)})\n\u001b[0m\u001b[1;32m    350\u001b[0m \u001b[1;33m\u001b[0m\u001b[0m\n\u001b[1;32m    351\u001b[0m     \u001b[1;31m# RenderedWebElement Items\u001b[0m\u001b[1;33m\u001b[0m\u001b[1;33m\u001b[0m\u001b[0m\n",
      "\u001b[0;32mC:\\Users\\amore\\Anaconda3\\lib\\site-packages\\selenium\\webdriver\\remote\\webelement.py\u001b[0m in \u001b[0;36m_execute\u001b[0;34m(self, command, params)\u001b[0m\n\u001b[1;32m    491\u001b[0m             \u001b[0mparams\u001b[0m \u001b[1;33m=\u001b[0m \u001b[1;33m{\u001b[0m\u001b[1;33m}\u001b[0m\u001b[1;33m\u001b[0m\u001b[0m\n\u001b[1;32m    492\u001b[0m         \u001b[0mparams\u001b[0m\u001b[1;33m[\u001b[0m\u001b[1;34m'id'\u001b[0m\u001b[1;33m]\u001b[0m \u001b[1;33m=\u001b[0m \u001b[0mself\u001b[0m\u001b[1;33m.\u001b[0m\u001b[0m_id\u001b[0m\u001b[1;33m\u001b[0m\u001b[0m\n\u001b[0;32m--> 493\u001b[0;31m         \u001b[1;32mreturn\u001b[0m \u001b[0mself\u001b[0m\u001b[1;33m.\u001b[0m\u001b[0m_parent\u001b[0m\u001b[1;33m.\u001b[0m\u001b[0mexecute\u001b[0m\u001b[1;33m(\u001b[0m\u001b[0mcommand\u001b[0m\u001b[1;33m,\u001b[0m \u001b[0mparams\u001b[0m\u001b[1;33m)\u001b[0m\u001b[1;33m\u001b[0m\u001b[0m\n\u001b[0m\u001b[1;32m    494\u001b[0m \u001b[1;33m\u001b[0m\u001b[0m\n\u001b[1;32m    495\u001b[0m     \u001b[1;32mdef\u001b[0m \u001b[0mfind_element\u001b[0m\u001b[1;33m(\u001b[0m\u001b[0mself\u001b[0m\u001b[1;33m,\u001b[0m \u001b[0mby\u001b[0m\u001b[1;33m=\u001b[0m\u001b[0mBy\u001b[0m\u001b[1;33m.\u001b[0m\u001b[0mID\u001b[0m\u001b[1;33m,\u001b[0m \u001b[0mvalue\u001b[0m\u001b[1;33m=\u001b[0m\u001b[1;32mNone\u001b[0m\u001b[1;33m)\u001b[0m\u001b[1;33m:\u001b[0m\u001b[1;33m\u001b[0m\u001b[0m\n",
      "\u001b[0;32mC:\\Users\\amore\\Anaconda3\\lib\\site-packages\\selenium\\webdriver\\remote\\webdriver.py\u001b[0m in \u001b[0;36mexecute\u001b[0;34m(self, driver_command, params)\u001b[0m\n\u001b[1;32m    254\u001b[0m         \u001b[0mresponse\u001b[0m \u001b[1;33m=\u001b[0m \u001b[0mself\u001b[0m\u001b[1;33m.\u001b[0m\u001b[0mcommand_executor\u001b[0m\u001b[1;33m.\u001b[0m\u001b[0mexecute\u001b[0m\u001b[1;33m(\u001b[0m\u001b[0mdriver_command\u001b[0m\u001b[1;33m,\u001b[0m \u001b[0mparams\u001b[0m\u001b[1;33m)\u001b[0m\u001b[1;33m\u001b[0m\u001b[0m\n\u001b[1;32m    255\u001b[0m         \u001b[1;32mif\u001b[0m \u001b[0mresponse\u001b[0m\u001b[1;33m:\u001b[0m\u001b[1;33m\u001b[0m\u001b[0m\n\u001b[0;32m--> 256\u001b[0;31m             \u001b[0mself\u001b[0m\u001b[1;33m.\u001b[0m\u001b[0merror_handler\u001b[0m\u001b[1;33m.\u001b[0m\u001b[0mcheck_response\u001b[0m\u001b[1;33m(\u001b[0m\u001b[0mresponse\u001b[0m\u001b[1;33m)\u001b[0m\u001b[1;33m\u001b[0m\u001b[0m\n\u001b[0m\u001b[1;32m    257\u001b[0m             response['value'] = self._unwrap_value(\n\u001b[1;32m    258\u001b[0m                 response.get('value', None))\n",
      "\u001b[0;32mC:\\Users\\amore\\Anaconda3\\lib\\site-packages\\selenium\\webdriver\\remote\\errorhandler.py\u001b[0m in \u001b[0;36mcheck_response\u001b[0;34m(self, response)\u001b[0m\n\u001b[1;32m    163\u001b[0m             \u001b[1;32mif\u001b[0m \u001b[0mexception_class\u001b[0m \u001b[1;33m==\u001b[0m \u001b[0mErrorInResponseException\u001b[0m\u001b[1;33m:\u001b[0m\u001b[1;33m\u001b[0m\u001b[0m\n\u001b[1;32m    164\u001b[0m                 \u001b[1;32mraise\u001b[0m \u001b[0mexception_class\u001b[0m\u001b[1;33m(\u001b[0m\u001b[0mresponse\u001b[0m\u001b[1;33m,\u001b[0m \u001b[0mvalue\u001b[0m\u001b[1;33m)\u001b[0m\u001b[1;33m\u001b[0m\u001b[0m\n\u001b[0;32m--> 165\u001b[0;31m             \u001b[1;32mraise\u001b[0m \u001b[0mexception_class\u001b[0m\u001b[1;33m(\u001b[0m\u001b[0mvalue\u001b[0m\u001b[1;33m)\u001b[0m\u001b[1;33m\u001b[0m\u001b[0m\n\u001b[0m\u001b[1;32m    166\u001b[0m         \u001b[1;32mif\u001b[0m \u001b[0mmessage\u001b[0m \u001b[1;33m==\u001b[0m \u001b[1;34m\"\"\u001b[0m \u001b[1;32mand\u001b[0m \u001b[1;34m'message'\u001b[0m \u001b[1;32min\u001b[0m \u001b[0mvalue\u001b[0m\u001b[1;33m:\u001b[0m\u001b[1;33m\u001b[0m\u001b[0m\n\u001b[1;32m    167\u001b[0m             \u001b[0mmessage\u001b[0m \u001b[1;33m=\u001b[0m \u001b[0mvalue\u001b[0m\u001b[1;33m[\u001b[0m\u001b[1;34m'message'\u001b[0m\u001b[1;33m]\u001b[0m\u001b[1;33m\u001b[0m\u001b[0m\n",
      "\u001b[0;31mWebDriverException\u001b[0m: Message: TypeError - undefined is not a constructor (evaluating '_getTagName(currWindow).toLowerCase()')\n"
     ]
    }
   ],
   "source": [
    "from selenium import webdriver\n",
    "\n",
    "url_login='https://github.com/login'\n",
    "USER='n******@hotmail.com'\n",
    "PW='a******'\n",
    "\n",
    "#가상 드라이버 \n",
    "browser = webdriver.PhantomJS()\n",
    "browser.implicitly_wait(3)\n",
    "\n",
    "#로그인페이지 접근\n",
    "\n",
    "browser.get(url_login)\n",
    "print('로그인 페이지입니다')\n",
    "\n",
    "#로그인 하기\n",
    "browser.find_element_by_id('login_field').send_keys(USER)\n",
    "print('아이디 입력완료')\n",
    "\n",
    "browser.find_element_by_id('password').send_keys(PW)\n",
    "print('패스워드 입력완료')\n",
    "\n",
    "browser.find_element_by_xpath('//*[@id=\"login\"]/form/div[4]/input[3]').click()\n",
    "print('로그인 버튼 클릭합니다')\n"
   ]
  }
 ],
 "metadata": {
  "anaconda-cloud": {},
  "kernelspec": {
   "display_name": "Python [default]",
   "language": "python",
   "name": "python3"
  },
  "language_info": {
   "codemirror_mode": {
    "name": "ipython",
    "version": 3
   },
   "file_extension": ".py",
   "mimetype": "text/x-python",
   "name": "python",
   "nbconvert_exporter": "python",
   "pygments_lexer": "ipython3",
   "version": "3.5.2"
  }
 },
 "nbformat": 4,
 "nbformat_minor": 1
}
