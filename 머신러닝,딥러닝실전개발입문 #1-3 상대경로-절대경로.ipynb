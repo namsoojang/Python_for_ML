{
 "cells": [
  {
   "cell_type": "code",
   "execution_count": 7,
   "metadata": {
    "collapsed": false
   },
   "outputs": [
    {
     "name": "stdout",
     "output_type": "stream",
     "text": [
      "http://example.com/html/b.html\n",
      "http://example.com/index.html\n",
      "http://example.com/html/sub/c.html\n",
      "%EA%B0%80%EB%82%98+%EB%9D%84%EC%9A%B0%EA%B3%A0+%EB%8B%A4%EB%9D%BC\n",
      "I+like+an+apple\n",
      "http://example.com/html/abcdddd\n"
     ]
    }
   ],
   "source": [
    "# 상대경로 --> 절대경로 : urljoin\n",
    "from requests.compat import urljoin, quote_plus\n",
    "\n",
    "base = 'http://example.com/html/a.html'\n",
    "\n",
    "print(urljoin(base, 'b.html'))\n",
    "print(urljoin(base, '../index.html'))\n",
    "print(urljoin(base, 'sub/c.html'))\n",
    "\n",
    "\n",
    "#공백 사이에 + 기호 붙이기 : quote_plus\n",
    "print(quote_plus('가나 띄우고 다라'))\n",
    "print(quote_plus('I like an apple'))\n",
    "\n",
    "\n",
    "print(urljoin(base, quote_plus('abcdddd')))"
   ]
  },
  {
   "cell_type": "code",
   "execution_count": null,
   "metadata": {
    "collapsed": true
   },
   "outputs": [],
   "source": []
  }
 ],
 "metadata": {
  "kernelspec": {
   "display_name": "Python [default]",
   "language": "python",
   "name": "python3"
  },
  "language_info": {
   "codemirror_mode": {
    "name": "ipython",
    "version": 3
   },
   "file_extension": ".py",
   "mimetype": "text/x-python",
   "name": "python",
   "nbconvert_exporter": "python",
   "pygments_lexer": "ipython3",
   "version": "3.5.2"
  }
 },
 "nbformat": 4,
 "nbformat_minor": 1
}
